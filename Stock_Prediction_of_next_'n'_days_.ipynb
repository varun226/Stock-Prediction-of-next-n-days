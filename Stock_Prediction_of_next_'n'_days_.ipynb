{
  "nbformat": 4,
  "nbformat_minor": 0,
  "metadata": {
    "colab": {
      "name": "Stock Prediction of next 'n' days .ipynb",
      "provenance": [],
      "authorship_tag": "ABX9TyMPLRJLiZ74QhK/UzJiGvIX",
      "include_colab_link": true
    },
    "kernelspec": {
      "name": "python3",
      "display_name": "Python 3"
    },
    "language_info": {
      "name": "python"
    }
  },
  "cells": [
    {
      "cell_type": "markdown",
      "metadata": {
        "id": "view-in-github",
        "colab_type": "text"
      },
      "source": [
        "<a href=\"https://colab.research.google.com/github/varun226/Stock-Prediction-of-next-n-days/blob/main/Stock_Prediction_of_next_'n'_days_.ipynb\" target=\"_parent\"><img src=\"https://colab.research.google.com/assets/colab-badge.svg\" alt=\"Open In Colab\"/></a>"
      ]
    },
    {
      "cell_type": "code",
      "metadata": {
        "id": "08ZoLb9VbrT-"
      },
      "source": [
        "pip install quandl"
      ],
      "execution_count": null,
      "outputs": []
    },
    {
      "cell_type": "markdown",
      "metadata": {
        "id": "cRlULuI3dKec"
      },
      "source": [
        "**We will be using Machine Learning Models to predict the price of a stock**"
      ]
    },
    {
      "cell_type": "code",
      "metadata": {
        "id": "IWiDPEukcBgK"
      },
      "source": [
        "#import all dependencies \n",
        "import quandl\n",
        "import numpy as np\n",
        "from sklearn.linear_model import LinearRegression\n",
        "from sklearn.svm import SVR\n",
        "from sklearn.model_selection import train_test_split"
      ],
      "execution_count": null,
      "outputs": []
    },
    {
      "cell_type": "code",
      "metadata": {
        "colab": {
          "base_uri": "https://localhost:8080/"
        },
        "id": "Pvc7L_ACd_qk",
        "outputId": "e3fce02a-b04c-41f2-8398-00c7633b9f5d"
      },
      "source": [
        "# Get the stock price data\n",
        "df= quandl.get('WIKI/GOOGL')\n",
        "\n",
        "# Take a look at the data\n",
        "print(df.head())"
      ],
      "execution_count": null,
      "outputs": [
        {
          "output_type": "stream",
          "text": [
            "              Open    High     Low  ...   Adj. Low  Adj. Close  Adj. Volume\n",
            "Date                                ...                                    \n",
            "2004-08-19  100.01  104.06   95.96  ...  48.128568   50.322842   44659000.0\n",
            "2004-08-20  101.01  109.08  100.50  ...  50.405597   54.322689   22834300.0\n",
            "2004-08-23  110.76  113.48  109.05  ...  54.693835   54.869377   18256100.0\n",
            "2004-08-24  111.24  111.60  103.57  ...  51.945350   52.597363   15247300.0\n",
            "2004-08-25  104.76  108.00  103.88  ...  52.100830   53.164113    9188600.0\n",
            "\n",
            "[5 rows x 12 columns]\n"
          ],
          "name": "stdout"
        }
      ]
    },
    {
      "cell_type": "markdown",
      "metadata": {
        "id": "4YgnSCLrfsou"
      },
      "source": [
        "**We need only Adjusted close price**"
      ]
    },
    {
      "cell_type": "code",
      "metadata": {
        "colab": {
          "base_uri": "https://localhost:8080/"
        },
        "id": "VX3W-1RcfDax",
        "outputId": "01b515f7-739b-40a5-85fd-def3f33a211e"
      },
      "source": [
        "# Get the adjusted close price \n",
        "df=df[['Adj. Close']]\n",
        "\n",
        "#Take a lot at the data \n",
        "print(df.head())"
      ],
      "execution_count": null,
      "outputs": [
        {
          "output_type": "stream",
          "text": [
            "            Adj. Close\n",
            "Date                  \n",
            "2004-08-19   50.322842\n",
            "2004-08-20   54.322689\n",
            "2004-08-23   54.869377\n",
            "2004-08-24   52.597363\n",
            "2004-08-25   53.164113\n"
          ],
          "name": "stdout"
        }
      ]
    },
    {
      "cell_type": "code",
      "metadata": {
        "colab": {
          "base_uri": "https://localhost:8080/"
        },
        "id": "vtPHSggzgDkq",
        "outputId": "27e7c7a8-9047-47ea-98c2-bff64edfce70"
      },
      "source": [
        "# A variable for predicting 'n' days out in the future\n",
        "forecast_out=30\n",
        "\n",
        "# Create another column (target or dependent variable) shifted 'n' units up\n",
        "df['Prediction']=df[['Adj. Close']].shift(-forecast_out)\n",
        "\n",
        "# print the new dataset after shifting\n",
        "print(df.tail())"
      ],
      "execution_count": null,
      "outputs": [
        {
          "output_type": "stream",
          "text": [
            "            Adj. Close  Prediction\n",
            "Date                              \n",
            "2018-03-21     1094.00         NaN\n",
            "2018-03-22     1053.15         NaN\n",
            "2018-03-23     1026.55         NaN\n",
            "2018-03-26     1054.09         NaN\n",
            "2018-03-27     1006.94         NaN\n"
          ],
          "name": "stdout"
        }
      ]
    },
    {
      "cell_type": "markdown",
      "metadata": {
        "id": "xGgw3yeeksNv"
      },
      "source": [
        "Create independent dataset (X)"
      ]
    },
    {
      "cell_type": "code",
      "metadata": {
        "colab": {
          "base_uri": "https://localhost:8080/"
        },
        "id": "bC_JLIB9jUuG",
        "outputId": "f9ac7c70-c317-4ed1-a2b6-e9cccb6c4136"
      },
      "source": [
        "#convert dataframe to a numpy array \n",
        "X= np.array(df.drop(['Prediction'],1))\n",
        "\n",
        "# remove the last 'n' rows \n",
        "X= X[:-forecast_out]\n",
        "print(X)"
      ],
      "execution_count": null,
      "outputs": [
        {
          "output_type": "stream",
          "text": [
            "[[  50.32284179]\n",
            " [  54.32268894]\n",
            " [  54.86937651]\n",
            " ...\n",
            " [1005.6       ]\n",
            " [1043.43      ]\n",
            " [1054.56      ]]\n"
          ],
          "name": "stdout"
        }
      ]
    },
    {
      "cell_type": "code",
      "metadata": {
        "id": "QeBeiSTslQkd",
        "colab": {
          "base_uri": "https://localhost:8080/"
        },
        "outputId": "cc431dc7-827a-4c8f-e813-cdd9c6da188f"
      },
      "source": [
        "### Create the dependent dataset(y) ###\n",
        "#Convert the dataset into a numpy array (\"All the values including the NaN's\")\n",
        "y=np.array(df['Prediction'])\n",
        "\n",
        "# Get all the values except the last 'n' rows\n",
        "y=y[:-forecast_out]\n",
        "print(y)\n"
      ],
      "execution_count": null,
      "outputs": [
        {
          "output_type": "stream",
          "text": [
            "[  66.49526451   67.73910413   69.39922877 ... 1026.55       1054.09\n",
            " 1006.94      ]\n"
          ],
          "name": "stdout"
        }
      ]
    },
    {
      "cell_type": "code",
      "metadata": {
        "id": "BIZRTycedVTV"
      },
      "source": [
        "#Split the data into 80% training and 20% testing \n",
        "x_train,x_test,y_train,y_test=train_test_split(X,y,test_size=0.2)"
      ],
      "execution_count": null,
      "outputs": []
    },
    {
      "cell_type": "code",
      "metadata": {
        "colab": {
          "base_uri": "https://localhost:8080/"
        },
        "id": "sQmmgKGaeyFN",
        "outputId": "66ec5493-2f26-4da6-df9c-a167c1d0ad0e"
      },
      "source": [
        "# Create and train the Support Vector Machine Regressor \n",
        "svr_rbf=SVR(kernel='rbf', C=1e3 , gamma=0.1)\n",
        "svr_rbf.fit(x_train,y_train)"
      ],
      "execution_count": null,
      "outputs": [
        {
          "output_type": "execute_result",
          "data": {
            "text/plain": [
              "SVR(C=1000.0, cache_size=200, coef0=0.0, degree=3, epsilon=0.1, gamma=0.1,\n",
              "    kernel='rbf', max_iter=-1, shrinking=True, tol=0.001, verbose=False)"
            ]
          },
          "metadata": {
            "tags": []
          },
          "execution_count": 44
        }
      ]
    },
    {
      "cell_type": "code",
      "metadata": {
        "colab": {
          "base_uri": "https://localhost:8080/"
        },
        "id": "U-CL_drmjdLQ",
        "outputId": "0abf7182-8fbd-4d12-90ce-06723d9fab4c"
      },
      "source": [
        "# Testing Model: Score returns the coefficient of determination of R^2 of the prediction\n",
        "# Best score possible is 1.0\n",
        "svm_confidence=svr_rbf.score(x_test,y_test)\n",
        "print('svm confidence:', svm_confidence)"
      ],
      "execution_count": null,
      "outputs": [
        {
          "output_type": "stream",
          "text": [
            "svm confidence: 0.9439436817711805\n"
          ],
          "name": "stdout"
        }
      ]
    },
    {
      "cell_type": "code",
      "metadata": {
        "colab": {
          "base_uri": "https://localhost:8080/"
        },
        "id": "mtnGDklBkVbE",
        "outputId": "f0309f33-4796-499c-bdf4-596017047ad5"
      },
      "source": [
        "#Create and train the Linear Regression Model\n",
        "lr=LinearRegression()\n",
        "lr.fit(x_train,y_train)"
      ],
      "execution_count": null,
      "outputs": [
        {
          "output_type": "execute_result",
          "data": {
            "text/plain": [
              "LinearRegression(copy_X=True, fit_intercept=True, n_jobs=None, normalize=False)"
            ]
          },
          "metadata": {
            "tags": []
          },
          "execution_count": 46
        }
      ]
    },
    {
      "cell_type": "code",
      "metadata": {
        "colab": {
          "base_uri": "https://localhost:8080/"
        },
        "id": "ZakSgqYYkrR-",
        "outputId": "bf8568b6-8c7d-4eef-9d09-2e0c07a7c0e1"
      },
      "source": [
        "# Testing Model: Score returns the coefficient of determination of R^2 of the prediction\n",
        "# Best score possible is 1.0\n",
        "lr_confidence=lr.score(x_test,y_test)\n",
        "print('lr confidence:', lr_confidence)"
      ],
      "execution_count": null,
      "outputs": [
        {
          "output_type": "stream",
          "text": [
            "lr confidence: 0.9801120481612801\n"
          ],
          "name": "stdout"
        }
      ]
    },
    {
      "cell_type": "code",
      "metadata": {
        "colab": {
          "base_uri": "https://localhost:8080/"
        },
        "id": "ARxK3wQRk7eu",
        "outputId": "fa752245-7bbc-4dfe-ff62-623f93f1c409"
      },
      "source": [
        "#Set x_forecast as last 30 rows of the original data set from Adj. Close column\n",
        "x_forecast=np.array(df.drop(['Prediction'],1))[-forecast_out:]\n",
        "print(x_forecast)"
      ],
      "execution_count": null,
      "outputs": [
        {
          "output_type": "stream",
          "text": [
            "[[1054.14]\n",
            " [1072.7 ]\n",
            " [1091.36]\n",
            " [1095.5 ]\n",
            " [1103.59]\n",
            " [1113.75]\n",
            " [1109.9 ]\n",
            " [1128.09]\n",
            " [1143.7 ]\n",
            " [1117.51]\n",
            " [1103.92]\n",
            " [1071.41]\n",
            " [1084.14]\n",
            " [1094.76]\n",
            " [1100.9 ]\n",
            " [1115.04]\n",
            " [1129.38]\n",
            " [1160.84]\n",
            " [1165.93]\n",
            " [1139.91]\n",
            " [1148.89]\n",
            " [1150.61]\n",
            " [1134.42]\n",
            " [1100.07]\n",
            " [1095.8 ]\n",
            " [1094.  ]\n",
            " [1053.15]\n",
            " [1026.55]\n",
            " [1054.09]\n",
            " [1006.94]]\n"
          ],
          "name": "stdout"
        }
      ]
    },
    {
      "cell_type": "code",
      "metadata": {
        "colab": {
          "base_uri": "https://localhost:8080/"
        },
        "id": "OyGvze0SmPG5",
        "outputId": "c335a66a-0677-4e0c-d391-0a8d38a990d9"
      },
      "source": [
        "#Print linear Regression Model for the next 'n' days \n",
        "lr_prediction=lr.predict(x_forecast)\n",
        "print(lr_prediction)\n",
        "\n",
        "\n",
        "#Print SVR  for the next 'n' days\n",
        "svm_prediction=svr_rbf.predict(x_forecast)\n",
        "print(svm_prediction) \n"
      ],
      "execution_count": null,
      "outputs": [
        {
          "output_type": "stream",
          "text": [
            "[1074.2289754  1093.08944643 1112.05153636 1116.25855953 1124.47952993\n",
            " 1134.80401191 1130.8916836  1149.37616463 1165.2388776  1138.6248832\n",
            " 1124.81487236 1091.77856239 1104.71465055 1115.50657955 1121.74598106\n",
            " 1136.11489595 1150.68704866 1182.65636    1187.82876288 1161.38752064\n",
            " 1170.5128994  1172.26074478 1155.80864209 1120.90254405 1116.56341629\n",
            " 1114.73427578 1073.22294812 1046.19231616 1074.17816594 1026.26484651]\n",
            "[1016.06003946 1100.32881441 1083.83088892 1108.7167376   603.48775484\n",
            " 1040.00641662 1075.00188924  853.18193649  596.07995252 1016.06581672\n",
            "  606.3880297  1100.17876706 1053.37365996 1130.14982216  626.95763393\n",
            "  945.85010141 1022.64528227  762.66686154  991.65962222  596.18507153\n",
            "  596.07992933  596.07993462  723.32677011  663.67149605 1093.05050919\n",
            " 1134.83215846 1069.74816823  606.33140684 1017.879141   1077.27164452]\n"
          ],
          "name": "stdout"
        }
      ]
    },
    {
      "cell_type": "code",
      "metadata": {
        "id": "qGLoTlHAnddI"
      },
      "source": [
        "#After getting the values of the next 'n' days from the Linear Regression Model and SVM Model we compare which model is better based on the confidence score and use those values"
      ],
      "execution_count": null,
      "outputs": []
    }
  ]
}